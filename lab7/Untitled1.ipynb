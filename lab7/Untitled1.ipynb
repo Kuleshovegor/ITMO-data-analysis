{
 "cells": [
  {
   "cell_type": "code",
   "execution_count": 1,
   "id": "98c42e97-9131-4c72-b393-cf10dd766c68",
   "metadata": {},
   "outputs": [],
   "source": [
    "import pandas as pd \n",
    "import numpy as np\n",
    "import torch\n",
    "import tensorflow as tf\n",
    "from tqdm import tqdm\n",
    "from transformers import BertTokenizer, BertModel\n",
    "import os    \n",
    "os.environ['KMP_DUPLICATE_LIB_OK']='True'\n",
    "import matplotlib.pyplot as plt"
   ]
  },
  {
   "cell_type": "code",
   "execution_count": 2,
   "id": "9258627a-4174-4113-a485-42b58082c4fa",
   "metadata": {},
   "outputs": [],
   "source": [
    "tokenizer = BertTokenizer.from_pretrained('bert-base-uncased')"
   ]
  },
  {
   "cell_type": "code",
   "execution_count": 3,
   "id": "e2e6a990-1a06-497f-8fec-e4ca55cad1f8",
   "metadata": {},
   "outputs": [
    {
     "name": "stderr",
     "output_type": "stream",
     "text": [
      "Some weights of the model checkpoint at bert-base-uncased were not used when initializing BertModel: ['cls.predictions.transform.LayerNorm.bias', 'cls.seq_relationship.weight', 'cls.predictions.bias', 'cls.predictions.transform.dense.weight', 'cls.predictions.transform.LayerNorm.weight', 'cls.predictions.decoder.weight', 'cls.predictions.transform.dense.bias', 'cls.seq_relationship.bias']\n",
      "- This IS expected if you are initializing BertModel from the checkpoint of a model trained on another task or with another architecture (e.g. initializing a BertForSequenceClassification model from a BertForPreTraining model).\n",
      "- This IS NOT expected if you are initializing BertModel from the checkpoint of a model that you expect to be exactly identical (initializing a BertForSequenceClassification model from a BertForSequenceClassification model).\n"
     ]
    }
   ],
   "source": [
    "model = BertModel.from_pretrained('bert-base-uncased',\n",
    "                                  output_hidden_states = True, # возращать эмбеддинги каждого слова\n",
    "                                  )\n",
    "emb_to_word = dict()\n",
    "tokenz = []"
   ]
  },
  {
   "cell_type": "code",
   "execution_count": 4,
   "id": "1832e3ce-21df-460a-95cc-38b0e17b4522",
   "metadata": {},
   "outputs": [],
   "source": [
    "def make_sentence_embedding(text: str) -> torch.Tensor:\n",
    "    # Получим индексы токенов\n",
    "    tokenized_query = tokenizer.tokenize(text)\n",
    "    indexed_tokens = tokenizer.convert_tokens_to_ids(tokenized_query)\n",
    "    for i in indexed_tokens:\n",
    "        tokenz.append(i)\n",
    "    segments_ids = [1] * len(indexed_tokens)\n",
    "    \n",
    "    # to tensor \n",
    "    tokens_tensor = torch.tensor([indexed_tokens])\n",
    "    segments_tensors = torch.tensor([segments_ids])\n",
    "    \n",
    "    # calc embeddings\n",
    "    outputs = model(tokens_tensor, segments_tensors)\n",
    "    embeddings = outputs[2]\n",
    "    \n",
    "    return embeddings[-1][0]"
   ]
  },
  {
   "cell_type": "code",
   "execution_count": 5,
   "id": "d630b957-912c-43bc-90d7-e5653406f3ad",
   "metadata": {},
   "outputs": [],
   "source": [
    "clean_data = pd.read_csv('data/Corona_NLP_train.csv')"
   ]
  },
  {
   "cell_type": "code",
   "execution_count": 6,
   "id": "4e515222-a62f-40df-94a9-2f50eaab713b",
   "metadata": {},
   "outputs": [
    {
     "data": {
      "text/html": [
       "<div>\n",
       "<style scoped>\n",
       "    .dataframe tbody tr th:only-of-type {\n",
       "        vertical-align: middle;\n",
       "    }\n",
       "\n",
       "    .dataframe tbody tr th {\n",
       "        vertical-align: top;\n",
       "    }\n",
       "\n",
       "    .dataframe thead th {\n",
       "        text-align: right;\n",
       "    }\n",
       "</style>\n",
       "<table border=\"1\" class=\"dataframe\">\n",
       "  <thead>\n",
       "    <tr style=\"text-align: right;\">\n",
       "      <th></th>\n",
       "      <th>UserName</th>\n",
       "      <th>ScreenName</th>\n",
       "      <th>Location</th>\n",
       "      <th>TweetAt</th>\n",
       "      <th>OriginalTweet</th>\n",
       "      <th>Sentiment</th>\n",
       "    </tr>\n",
       "  </thead>\n",
       "  <tbody>\n",
       "    <tr>\n",
       "      <th>0</th>\n",
       "      <td>3799</td>\n",
       "      <td>48751</td>\n",
       "      <td>London</td>\n",
       "      <td>16-03-2020</td>\n",
       "      <td>@MeNyrbie @Phil_Gahan @Chrisitv https://t.co/i...</td>\n",
       "      <td>Neutral</td>\n",
       "    </tr>\n",
       "    <tr>\n",
       "      <th>1</th>\n",
       "      <td>3800</td>\n",
       "      <td>48752</td>\n",
       "      <td>UK</td>\n",
       "      <td>16-03-2020</td>\n",
       "      <td>advice Talk to your neighbours family to excha...</td>\n",
       "      <td>Positive</td>\n",
       "    </tr>\n",
       "    <tr>\n",
       "      <th>2</th>\n",
       "      <td>3801</td>\n",
       "      <td>48753</td>\n",
       "      <td>Vagabonds</td>\n",
       "      <td>16-03-2020</td>\n",
       "      <td>Coronavirus Australia: Woolworths to give elde...</td>\n",
       "      <td>Positive</td>\n",
       "    </tr>\n",
       "    <tr>\n",
       "      <th>3</th>\n",
       "      <td>3802</td>\n",
       "      <td>48754</td>\n",
       "      <td>NaN</td>\n",
       "      <td>16-03-2020</td>\n",
       "      <td>My food stock is not the only one which is emp...</td>\n",
       "      <td>Positive</td>\n",
       "    </tr>\n",
       "    <tr>\n",
       "      <th>4</th>\n",
       "      <td>3803</td>\n",
       "      <td>48755</td>\n",
       "      <td>NaN</td>\n",
       "      <td>16-03-2020</td>\n",
       "      <td>Me, ready to go at supermarket during the #COV...</td>\n",
       "      <td>Extremely Negative</td>\n",
       "    </tr>\n",
       "  </tbody>\n",
       "</table>\n",
       "</div>"
      ],
      "text/plain": [
       "   UserName  ScreenName   Location     TweetAt  \\\n",
       "0      3799       48751     London  16-03-2020   \n",
       "1      3800       48752         UK  16-03-2020   \n",
       "2      3801       48753  Vagabonds  16-03-2020   \n",
       "3      3802       48754        NaN  16-03-2020   \n",
       "4      3803       48755        NaN  16-03-2020   \n",
       "\n",
       "                                       OriginalTweet           Sentiment  \n",
       "0  @MeNyrbie @Phil_Gahan @Chrisitv https://t.co/i...             Neutral  \n",
       "1  advice Talk to your neighbours family to excha...            Positive  \n",
       "2  Coronavirus Australia: Woolworths to give elde...            Positive  \n",
       "3  My food stock is not the only one which is emp...            Positive  \n",
       "4  Me, ready to go at supermarket during the #COV...  Extremely Negative  "
      ]
     },
     "execution_count": 6,
     "metadata": {},
     "output_type": "execute_result"
    }
   ],
   "source": [
    "clean_data.head()"
   ]
  },
  {
   "cell_type": "code",
   "execution_count": 7,
   "id": "4205a5a2-28eb-4922-a087-cba2715cadb9",
   "metadata": {},
   "outputs": [
    {
     "name": "stderr",
     "output_type": "stream",
     "text": [
      "100%|████████████████████████████████████████████████████████████████████████████████| 300/300 [01:48<00:00,  2.75it/s]\n"
     ]
    }
   ],
   "source": [
    "comms = clean_data['OriginalTweet']\n",
    "words_embs = []\n",
    "\n",
    "for text in tqdm(comms[:300]):\n",
    "    emb = make_sentence_embedding(text)\n",
    "    for i in emb:\n",
    "        words_embs.append(i)"
   ]
  },
  {
   "cell_type": "code",
   "execution_count": 8,
   "id": "2135dc66-d823-4a96-84b1-8a800d86ec49",
   "metadata": {},
   "outputs": [
    {
     "data": {
      "text/plain": [
       "torch.Size([17150, 768])"
      ]
     },
     "execution_count": 8,
     "metadata": {},
     "output_type": "execute_result"
    }
   ],
   "source": [
    "texts_embs = torch.stack(words_embs)\n",
    "\n",
    "texts_embs.size()"
   ]
  },
  {
   "cell_type": "code",
   "execution_count": 9,
   "id": "bfb39209-2c15-4faa-a41c-9facb2575272",
   "metadata": {},
   "outputs": [],
   "source": [
    "def similarity_word(word_emb):\n",
    "    similarities = torch.nn.functional.cosine_similarity(query_emb, texts_embs)\n",
    "    res = []\n",
    "    \n",
    "    for i in torch.topk(similarities, 10).indices:\n",
    "        res.append((tokenizer.convert_ids_to_tokens(tokenz[i]), similarities[i]))\n",
    "    \n",
    "    return res\n",
    "\n",
    "def non_similarity_word(word_emb):\n",
    "    similarities = torch.nn.functional.cosine_similarity(query_emb, texts_embs)\n",
    "    res = []\n",
    "    \n",
    "    for i in torch.topk(similarities, 10, largest=False).indices:\n",
    "        res.append((tokenizer.convert_ids_to_tokens(tokenz[i]), similarities[i]))\n",
    "    \n",
    "    return res"
   ]
  },
  {
   "cell_type": "code",
   "execution_count": 10,
   "id": "f4ee1bf0-db5a-4413-9fff-dd305190a870",
   "metadata": {},
   "outputs": [
    {
     "data": {
      "text/plain": [
       "[('stop', tensor(0.4631, grad_fn=<SelectBackward0>)),\n",
       " ('##virus', tensor(0.4522, grad_fn=<SelectBackward0>)),\n",
       " ('#', tensor(0.4497, grad_fn=<SelectBackward0>)),\n",
       " ('corona', tensor(0.4490, grad_fn=<SelectBackward0>)),\n",
       " ('corona', tensor(0.4473, grad_fn=<SelectBackward0>)),\n",
       " ('rate', tensor(0.4470, grad_fn=<SelectBackward0>)),\n",
       " ('corona', tensor(0.4467, grad_fn=<SelectBackward0>)),\n",
       " ('#', tensor(0.4464, grad_fn=<SelectBackward0>)),\n",
       " ('##virus', tensor(0.4428, grad_fn=<SelectBackward0>)),\n",
       " ('##virus', tensor(0.4425, grad_fn=<SelectBackward0>))]"
      ]
     },
     "execution_count": 10,
     "metadata": {},
     "output_type": "execute_result"
    }
   ],
   "source": [
    "query_emb = make_sentence_embedding(\"corona\")[-1]\n",
    "\n",
    "similarity_word(query_emb)"
   ]
  },
  {
   "cell_type": "code",
   "execution_count": 11,
   "id": "c68d6af2-c8bd-4b68-add3-85fbbd19868d",
   "metadata": {},
   "outputs": [
    {
     "data": {
      "text/plain": [
       "[('with', tensor(0.0276, grad_fn=<SelectBackward0>)),\n",
       " (\"'\", tensor(0.0382, grad_fn=<SelectBackward0>)),\n",
       " ('58', tensor(0.0401, grad_fn=<SelectBackward0>)),\n",
       " (',', tensor(0.0445, grad_fn=<SelectBackward0>)),\n",
       " ('given', tensor(0.0467, grad_fn=<SelectBackward0>)),\n",
       " (\"'\", tensor(0.0498, grad_fn=<SelectBackward0>)),\n",
       " (',', tensor(0.0506, grad_fn=<SelectBackward0>)),\n",
       " ('clean', tensor(0.0520, grad_fn=<SelectBackward0>)),\n",
       " ('.', tensor(0.0564, grad_fn=<SelectBackward0>)),\n",
       " (',', tensor(0.0579, grad_fn=<SelectBackward0>))]"
      ]
     },
     "execution_count": 11,
     "metadata": {},
     "output_type": "execute_result"
    }
   ],
   "source": [
    "non_similarity_word(query_emb)"
   ]
  },
  {
   "cell_type": "code",
   "execution_count": 12,
   "id": "edc279fb-7223-4aba-9576-a7a4bb561668",
   "metadata": {},
   "outputs": [
    {
     "data": {
      "text/plain": [
       "[('#', tensor(0.5198, grad_fn=<SelectBackward0>)),\n",
       " ('read', tensor(0.5190, grad_fn=<SelectBackward0>)),\n",
       " ('#', tensor(0.5077, grad_fn=<SelectBackward0>)),\n",
       " ('#', tensor(0.5072, grad_fn=<SelectBackward0>)),\n",
       " ('please', tensor(0.5037, grad_fn=<SelectBackward0>)),\n",
       " ('this', tensor(0.5033, grad_fn=<SelectBackward0>)),\n",
       " ('thread', tensor(0.5011, grad_fn=<SelectBackward0>)),\n",
       " ('##out', tensor(0.4985, grad_fn=<SelectBackward0>)),\n",
       " ('#', tensor(0.4983, grad_fn=<SelectBackward0>)),\n",
       " ('#', tensor(0.4961, grad_fn=<SelectBackward0>))]"
      ]
     },
     "execution_count": 12,
     "metadata": {},
     "output_type": "execute_result"
    }
   ],
   "source": [
    "query_emb = make_sentence_embedding(\"virus\")[-1] + make_sentence_embedding(\"kill\")[-1] + make_sentence_embedding(\"peopl\")[-1]\n",
    "\n",
    "similarity_word(query_emb)"
   ]
  },
  {
   "cell_type": "code",
   "execution_count": 13,
   "id": "8f6e0afc-46f4-481d-8c39-58e33cea5aa9",
   "metadata": {},
   "outputs": [
    {
     "data": {
      "text/plain": [
       "[('.', tensor(0.0263, grad_fn=<SelectBackward0>)),\n",
       " (':', tensor(0.0399, grad_fn=<SelectBackward0>)),\n",
       " (\"'\", tensor(0.0456, grad_fn=<SelectBackward0>)),\n",
       " ('corona', tensor(0.0461, grad_fn=<SelectBackward0>)),\n",
       " (',', tensor(0.0472, grad_fn=<SelectBackward0>)),\n",
       " (\"'\", tensor(0.0518, grad_fn=<SelectBackward0>)),\n",
       " (':', tensor(0.0527, grad_fn=<SelectBackward0>)),\n",
       " (\"'\", tensor(0.0536, grad_fn=<SelectBackward0>)),\n",
       " (',', tensor(0.0554, grad_fn=<SelectBackward0>)),\n",
       " (\"'\", tensor(0.0555, grad_fn=<SelectBackward0>))]"
      ]
     },
     "execution_count": 13,
     "metadata": {},
     "output_type": "execute_result"
    }
   ],
   "source": [
    "non_similarity_word(query_emb)"
   ]
  },
  {
   "cell_type": "code",
   "execution_count": 14,
   "id": "8b174928-d3a1-4ede-9fcf-a08030b77309",
   "metadata": {},
   "outputs": [
    {
     "data": {
      "text/plain": [
       "[('clean', tensor(0.2183, grad_fn=<SelectBackward0>)),\n",
       " ('@', tensor(0.2135, grad_fn=<SelectBackward0>)),\n",
       " ('my', tensor(0.1977, grad_fn=<SelectBackward0>)),\n",
       " ('i', tensor(0.1913, grad_fn=<SelectBackward0>)),\n",
       " ('19', tensor(0.1913, grad_fn=<SelectBackward0>)),\n",
       " ('.', tensor(0.1891, grad_fn=<SelectBackward0>)),\n",
       " ('bing', tensor(0.1824, grad_fn=<SelectBackward0>)),\n",
       " ('korea', tensor(0.1802, grad_fn=<SelectBackward0>)),\n",
       " ('i', tensor(0.1793, grad_fn=<SelectBackward0>)),\n",
       " ('##sh', tensor(0.1767, grad_fn=<SelectBackward0>))]"
      ]
     },
     "execution_count": 14,
     "metadata": {},
     "output_type": "execute_result"
    }
   ],
   "source": [
    "query_emb = make_sentence_embedding(\"stop\")[-1] - make_sentence_embedding(\"corona\")[-1]\n",
    "\n",
    "similarity_word(query_emb)"
   ]
  },
  {
   "cell_type": "code",
   "execution_count": 15,
   "id": "123fe526-4655-4594-b676-b2d9ca289efe",
   "metadata": {},
   "outputs": [
    {
     "data": {
      "text/plain": [
       "[('/', tensor(-0.3043, grad_fn=<SelectBackward0>)),\n",
       " (':', tensor(-0.2963, grad_fn=<SelectBackward0>)),\n",
       " ('/', tensor(-0.2959, grad_fn=<SelectBackward0>)),\n",
       " ('/', tensor(-0.2861, grad_fn=<SelectBackward0>)),\n",
       " ('/', tensor(-0.2841, grad_fn=<SelectBackward0>)),\n",
       " (':', tensor(-0.2826, grad_fn=<SelectBackward0>)),\n",
       " (':', tensor(-0.2819, grad_fn=<SelectBackward0>)),\n",
       " ('/', tensor(-0.2798, grad_fn=<SelectBackward0>)),\n",
       " (':', tensor(-0.2784, grad_fn=<SelectBackward0>)),\n",
       " ('/', tensor(-0.2765, grad_fn=<SelectBackward0>))]"
      ]
     },
     "execution_count": 15,
     "metadata": {},
     "output_type": "execute_result"
    }
   ],
   "source": [
    "non_similarity_word(query_emb)"
   ]
  },
  {
   "cell_type": "code",
   "execution_count": null,
   "id": "dc95c1d4-db0b-4aad-acd3-484132efc601",
   "metadata": {},
   "outputs": [],
   "source": []
  }
 ],
 "metadata": {
  "kernelspec": {
   "display_name": "Python 3",
   "language": "python",
   "name": "python3"
  },
  "language_info": {
   "codemirror_mode": {
    "name": "ipython",
    "version": 3
   },
   "file_extension": ".py",
   "mimetype": "text/x-python",
   "name": "python",
   "nbconvert_exporter": "python",
   "pygments_lexer": "ipython3",
   "version": "3.8.8"
  }
 },
 "nbformat": 4,
 "nbformat_minor": 5
}
